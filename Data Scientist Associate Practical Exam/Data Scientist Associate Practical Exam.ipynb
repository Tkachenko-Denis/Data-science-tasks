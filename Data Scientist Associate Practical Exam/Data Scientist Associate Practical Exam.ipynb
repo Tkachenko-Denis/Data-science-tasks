{
 "cells": [
  {
   "cell_type": "markdown",
   "id": "3f93e316-4c3b-4e03-81cf-38efeb45949b",
   "metadata": {},
   "source": [
    "## Tasks\n",
    "Submit your answers directly in the workspace provided.\n",
    "1. For every column in the data:\n",
    "\t- State whether the values match the description given in the table above.\n",
    "    - State the number of missing values in the column\n",
    "    - Describe what you did to make values match the description if they did not match.\n",
    "2. Create a visualization that shows how many reviews were from owners and how many were not owners. Use the visualization to:\n",
    "    - State which category of the variable owned has the most number of observations\n",
    "\t- Explain whether the observations are balanced across categories of the variable owned\n",
    "3. Describe the distribution of the overall rating across the possible values. Your answer must include a visualization that shows the distribution.\n",
    "4. Describe the relationship between ownership and overall rating. Your answer must include a visualization to demonstrate the relationship.\n",
    "5. The business wants to predict whether a review came from an owner or not using the data provided. State the type of machine learning problem that this is (regression/classification/clustering).\n",
    "6. Fit a baseline model to predict whether a review came from an owner or not using the data provided. You must include your code.\n",
    "7. Fit a comparison model to predict whether a review came from an owner or not using the data provided. You must include your code.\n",
    "8. Explain why you chose the two models used in parts 6 and 7.\n",
    "9. Compare the performance of the two models used in parts 6 and 7, using any method suitable for the type of model. You must include your code.\n",
    "10. Explain which model performs better and why."
   ]
  },
  {
   "cell_type": "markdown",
   "id": "61c4129b-7a89-4461-9f94-130928b7ff6c",
   "metadata": {},
   "source": [
    "## Column value:\n",
    "\n",
    "![datacamp](datacamp.png)\n"
   ]
  },
  {
   "cell_type": "markdown",
   "id": "a6058654-aee4-4c6a-9299-b9104e9ef05f",
   "metadata": {},
   "source": [
    "# Data Validation\n",
    "\n",
    "The data contains 1500 rows and 8 columns with missing values. After examining the data, I draw the following conclusions:\n",
    "\n",
    "- owned: convert into category data type\n",
    "- make_model: convert into category data type\n",
    "- review_month: remove unnecessary values to have a short format of months, convert into category data type\n",
    "- web_browser: 150 missing values, eplace missing values with 'unknown', convert into category data type\n",
    "- reviewer_age: replace values '-' with the average age, convert into int data type\n",
    "- primary_use: convert into category data type\n",
    "- value_for_money: delete from variables '/10', convert into int data type\n",
    "- overall_rating: same as description without missing values"
   ]
  },
  {
   "cell_type": "code",
   "execution_count": 1,
   "id": "aebefe4f-d43d-4d64-b7ab-8fa665b78529",
   "metadata": {
    "executionTime": 39,
    "lastSuccessfullyExecutedCode": "# Import all necessary libraries\n\nimport pandas as pd\nimport numpy as np\nimport matplotlib.pyplot as plt\nimport seaborn as sns"
   },
   "outputs": [],
   "source": [
    "# Import all necessary libraries\n",
    "\n",
    "import pandas as pd\n",
    "import numpy as np\n",
    "import matplotlib.pyplot as plt\n",
    "import seaborn as sns"
   ]
  },
  {
   "cell_type": "code",
   "execution_count": 2,
   "id": "b3d7b408-6644-4501-99e4-19b5197cdf50",
   "metadata": {
    "executionTime": 256,
    "lastSuccessfullyExecutedCode": "# load the dataset, inspect the table and display the information about data\ndf = pd.read_csv('https://s3.amazonaws.com/talent-assets.datacamp.com/electric_bike_ratings_2212.csv')\ndisplay(df.head(5))\ndf.info()"
   },
   "outputs": [
    {
     "data": {
      "text/html": [
       "<div>\n",
       "<style scoped>\n",
       "    .dataframe tbody tr th:only-of-type {\n",
       "        vertical-align: middle;\n",
       "    }\n",
       "\n",
       "    .dataframe tbody tr th {\n",
       "        vertical-align: top;\n",
       "    }\n",
       "\n",
       "    .dataframe thead th {\n",
       "        text-align: right;\n",
       "    }\n",
       "</style>\n",
       "<table border=\"1\" class=\"dataframe\">\n",
       "  <thead>\n",
       "    <tr style=\"text-align: right;\">\n",
       "      <th></th>\n",
       "      <th>owned</th>\n",
       "      <th>make_model</th>\n",
       "      <th>review_month</th>\n",
       "      <th>web_browser</th>\n",
       "      <th>reviewer_age</th>\n",
       "      <th>primary_use</th>\n",
       "      <th>value_for_money</th>\n",
       "      <th>overall_rating</th>\n",
       "    </tr>\n",
       "  </thead>\n",
       "  <tbody>\n",
       "    <tr>\n",
       "      <th>0</th>\n",
       "      <td>1</td>\n",
       "      <td>Nielah-Eyden</td>\n",
       "      <td>Oct</td>\n",
       "      <td>Chrome</td>\n",
       "      <td>23</td>\n",
       "      <td>Commuting</td>\n",
       "      <td>5/10</td>\n",
       "      <td>18.62</td>\n",
       "    </tr>\n",
       "    <tr>\n",
       "      <th>1</th>\n",
       "      <td>0</td>\n",
       "      <td>Nielah-Keetra</td>\n",
       "      <td>Jun</td>\n",
       "      <td>NaN</td>\n",
       "      <td>24</td>\n",
       "      <td>Commuting</td>\n",
       "      <td>4/10</td>\n",
       "      <td>15.55</td>\n",
       "    </tr>\n",
       "    <tr>\n",
       "      <th>2</th>\n",
       "      <td>0</td>\n",
       "      <td>Lunna-Keetra</td>\n",
       "      <td>23-Oct</td>\n",
       "      <td>Chrome</td>\n",
       "      <td>28</td>\n",
       "      <td>Commuting</td>\n",
       "      <td>5/10</td>\n",
       "      <td>12.76</td>\n",
       "    </tr>\n",
       "    <tr>\n",
       "      <th>3</th>\n",
       "      <td>1</td>\n",
       "      <td>Hoang-Keetra</td>\n",
       "      <td>07-Nov</td>\n",
       "      <td>IE</td>\n",
       "      <td>41</td>\n",
       "      <td>Leisure</td>\n",
       "      <td>5/10</td>\n",
       "      <td>17.07</td>\n",
       "    </tr>\n",
       "    <tr>\n",
       "      <th>4</th>\n",
       "      <td>1</td>\n",
       "      <td>Lunna-Keetra</td>\n",
       "      <td>16-Sep</td>\n",
       "      <td>Chrome</td>\n",
       "      <td>33</td>\n",
       "      <td>Leisure</td>\n",
       "      <td>5/10</td>\n",
       "      <td>12.29</td>\n",
       "    </tr>\n",
       "  </tbody>\n",
       "</table>\n",
       "</div>"
      ],
      "text/plain": [
       "   owned     make_model review_month web_browser reviewer_age primary_use  \\\n",
       "0      1   Nielah-Eyden          Oct      Chrome           23   Commuting   \n",
       "1      0  Nielah-Keetra          Jun         NaN           24   Commuting   \n",
       "2      0   Lunna-Keetra       23-Oct      Chrome           28   Commuting   \n",
       "3      1   Hoang-Keetra       07-Nov          IE           41     Leisure   \n",
       "4      1   Lunna-Keetra       16-Sep      Chrome           33     Leisure   \n",
       "\n",
       "  value_for_money  overall_rating  \n",
       "0            5/10           18.62  \n",
       "1            4/10           15.55  \n",
       "2            5/10           12.76  \n",
       "3            5/10           17.07  \n",
       "4            5/10           12.29  "
      ]
     },
     "metadata": {},
     "output_type": "display_data"
    },
    {
     "name": "stdout",
     "output_type": "stream",
     "text": [
      "<class 'pandas.core.frame.DataFrame'>\n",
      "RangeIndex: 1500 entries, 0 to 1499\n",
      "Data columns (total 8 columns):\n",
      " #   Column           Non-Null Count  Dtype  \n",
      "---  ------           --------------  -----  \n",
      " 0   owned            1500 non-null   int64  \n",
      " 1   make_model       1500 non-null   object \n",
      " 2   review_month     1500 non-null   object \n",
      " 3   web_browser      1350 non-null   object \n",
      " 4   reviewer_age     1500 non-null   object \n",
      " 5   primary_use      1500 non-null   object \n",
      " 6   value_for_money  1500 non-null   object \n",
      " 7   overall_rating   1500 non-null   float64\n",
      "dtypes: float64(1), int64(1), object(6)\n",
      "memory usage: 93.9+ KB\n"
     ]
    }
   ],
   "source": [
    "# load the dataset, inspect the table and display the information about data\n",
    "df = pd.read_csv('data/electric_bike_ratings_2212.csv')\n",
    "display(df.head(5))\n",
    "df.info()"
   ]
  },
  {
   "cell_type": "code",
   "execution_count": 3,
   "id": "45949eed-4b87-492d-b7d4-f8cb126fa8ce",
   "metadata": {
    "executionTime": 65,
    "lastSuccessfullyExecutedCode": "# check for duplicates\ndf.duplicated().sum()"
   },
   "outputs": [
    {
     "data": {
      "text/plain": [
       "0"
      ]
     },
     "execution_count": 3,
     "metadata": {},
     "output_type": "execute_result"
    }
   ],
   "source": [
    "# check for duplicates\n",
    "df.duplicated().sum()"
   ]
  },
  {
   "cell_type": "code",
   "execution_count": 4,
   "id": "51b43db4-7f47-4d27-bb6f-0d9739374ea0",
   "metadata": {
    "executionTime": 96,
    "lastSuccessfullyExecutedCode": "# check the columns with object datatype for unique values to find errors\n\ndisplay(df.make_model.unique())\ndisplay(df.review_month.unique())\ndisplay(df.web_browser.unique())\ndisplay(df.primary_use.unique())\ndisplay(df.value_for_money.unique())\ndf.owned.unique()"
   },
   "outputs": [
    {
     "data": {
      "text/plain": [
       "array(['Nielah-Eyden', 'Nielah-Keetra', 'Lunna-Keetra', 'Hoang-Keetra',\n",
       "       'Lunna-Eyden', 'Hoang-Eyden'], dtype=object)"
      ]
     },
     "metadata": {},
     "output_type": "display_data"
    },
    {
     "data": {
      "text/plain": [
       "array(['Oct', 'Jun', '23-Oct', '07-Nov', '16-Sep', '26-Aug', '01-Mar',\n",
       "       '15-Mar', '09-Mar', 'Jul', '10-Nov', 'Mar', 'Apr', 'Sep', '27-Dec',\n",
       "       '11-Nov', '07-Dec', 'Feb', 'Jan', '06-Jun', '12-Jul', '02-Aug',\n",
       "       '23-Feb', '27-Jul', '26-Nov', '30-Apr', '31-Jul', '22-Nov',\n",
       "       '05-Sep', '05-Dec', '21-Jul', '15-Nov', '07-Jun', '20-May',\n",
       "       '23-Sep', '10-Sep', '19-Oct', '28-Oct', '08-Apr', '14-Feb',\n",
       "       '28-Nov', '28-Feb', '28-Jul', '12-Apr', '25-Apr', '25-Oct',\n",
       "       '08-Jul', '29-Mar', '22-Sep', '26-Jun', '24-May', '12-Mar',\n",
       "       '15-Feb', '28-Aug', 'May', '16-Jun', '02-Jul', '06-Feb', '21-Jun',\n",
       "       'Nov', '21-Apr', '19-Jul', '31-May', '11-Aug', '14-Mar', '12-Dec',\n",
       "       '02-Apr', '23-Aug', '11-Feb', '24-Aug', '03-Jun', '01-Apr',\n",
       "       '24-Nov', 'Dec', '26-Mar', '22-Oct', '22-Jan', '17-Mar', '05-Oct',\n",
       "       '20-Mar', '13-Jul', '03-Oct', '16-Nov', '10-Apr', '12-Aug',\n",
       "       '19-Aug', '09-Oct', 'Aug', '05-Nov', '23-Dec', '06-Jul', '03-Feb',\n",
       "       '21-May', '03-Jul', '10-May', '12-Jun', '20-Oct', '17-Sep',\n",
       "       '24-Feb', '24-Sep', '14-Sep', '07-Sep', '30-Nov', '17-Jun',\n",
       "       '16-Dec', '16-Jul', '23-Jun', '16-Mar', '01-Jul', '29-Sep',\n",
       "       '26-Dec', '06-Apr', '26-Jul', '01-Sep', '30-Mar', '19-Jan',\n",
       "       '11-Dec', '15-Oct', '27-Jan', '27-Aug', '17-Jan', '04-Dec',\n",
       "       '11-Jan', '22-Mar', '19-Sep', '03-Aug', '20-Jun', '07-May',\n",
       "       '11-May', '29-Dec', '06-Dec', '30-Jun', '10-Oct', '27-Jun',\n",
       "       '17-Apr', '29-Jul', '29-Aug', '17-Feb', '06-Oct', '22-Feb',\n",
       "       '24-Dec', '21-Oct', '22-Jun', '09-Jun', '16-Aug', '27-Oct',\n",
       "       '13-Nov', '25-Mar', '19-Nov', '31-Jan', '05-May', '08-Aug',\n",
       "       '21-Sep', '04-May', '26-Jan', '22-Dec', '15-Dec', '03-Sep',\n",
       "       '24-Oct', '21-Feb', '19-May', '07-Apr', '12-Jan', '29-Jun',\n",
       "       '20-Apr', '14-Jul', '11-Jun', '03-May', '08-Oct', '14-Dec',\n",
       "       '13-Jan', '29-May', '28-Dec', '02-May', '18-Sep', '16-Jan',\n",
       "       '27-Apr', '05-Jun', '25-Dec', '19-Feb', '23-May', '06-Jan',\n",
       "       '05-Mar', '30-Jan', '26-May', '20-Dec', '13-Oct', '17-Aug',\n",
       "       '05-Jan', '08-Dec', '22-Aug', '30-Aug', '28-Jan', '06-Sep',\n",
       "       '06-Nov', '26-Oct', '14-Nov', '01-May', '13-Sep', '26-Feb',\n",
       "       '08-May', '09-Dec', '28-Mar', '28-May', '19-Jun', '25-May',\n",
       "       '13-May', '30-Jul', '08-Nov', '15-Aug', '18-May', '15-Jun',\n",
       "       '10-Feb', '20-Sep', '14-Apr', '07-Jan', '24-Jun', '18-Aug',\n",
       "       '04-Apr', '11-Jul', '10-Jul', '29-Jan', '17-Dec', '15-Jan',\n",
       "       '08-Mar', '15-Sep', '02-Feb', '14-May', '17-Nov', '28-Apr',\n",
       "       '10-Dec', '19-Mar', '06-Mar', '11-Mar', '18-Feb', '17-May',\n",
       "       '21-Aug', '18-Apr', '12-Oct', '03-Jan', '04-Jul', '21-Mar',\n",
       "       '02-Jun', '10-Jun', '03-Apr', '27-Feb', '09-Aug', '04-Jun',\n",
       "       '24-Jan', '14-Jan', '18-Dec', '09-Feb', '02-Mar', '02-Dec',\n",
       "       '24-Apr', '25-Sep', '13-Jun', '14-Jun', '02-Nov', '21-Dec',\n",
       "       '04-Sep', '01-Aug', '16-Apr', '23-Apr', '18-Mar', '11-Apr',\n",
       "       '05-Aug', '27-Sep', '18-Jan', '22-Jul', '12-May', '05-Apr',\n",
       "       '07-Feb', '28-Sep', '13-Aug', '05-Feb', '10-Mar', '16-Feb',\n",
       "       '04-Feb', '31-Dec', '02-Oct', '30-May', '25-Nov', '25-Aug',\n",
       "       '06-May', '08-Jun', '29-Apr', '01-Nov', '08-Sep', '18-Nov',\n",
       "       '09-Apr', '02-Jan', '20-Nov', '21-Nov', '03-Dec', '20-Feb',\n",
       "       '16-May', '18-Oct', '12-Nov', '30-Sep', '12-Sep', '20-Aug',\n",
       "       '26-Apr', '07-Aug', '12-Feb', '04-Aug', '10-Aug', '24-Mar',\n",
       "       '01-Jun', '01-Jan', '22-May', '09-Jan', '15-May', '18-Jun',\n",
       "       '30-Oct', '26-Sep', '04-Mar', '15-Apr', '04-Oct', '11-Oct',\n",
       "       '04-Nov', '08-Jan', '07-Jul', '21-Jan', '16-Oct', '14-Aug',\n",
       "       '29-Nov', '23-Jan', '23-Jul', '23-Nov', '09-May', '06-Aug'],\n",
       "      dtype=object)"
      ]
     },
     "metadata": {},
     "output_type": "display_data"
    },
    {
     "data": {
      "text/plain": [
       "array(['Chrome', nan, 'IE', 'Firefox', 'Safari', 'Android', 'Opera'],\n",
       "      dtype=object)"
      ]
     },
     "metadata": {},
     "output_type": "display_data"
    },
    {
     "data": {
      "text/plain": [
       "array(['Commuting', 'Leisure'], dtype=object)"
      ]
     },
     "metadata": {},
     "output_type": "display_data"
    },
    {
     "data": {
      "text/plain": [
       "array(['5/10', '4/10', '3/10', '7/10', '6/10', '2/10', '9/10', '8/10',\n",
       "       '10/10', '1/10'], dtype=object)"
      ]
     },
     "metadata": {},
     "output_type": "display_data"
    },
    {
     "data": {
      "text/plain": [
       "array([1, 0], dtype=int64)"
      ]
     },
     "execution_count": 4,
     "metadata": {},
     "output_type": "execute_result"
    }
   ],
   "source": [
    "# check the columns with object datatype for unique values to find errors\n",
    "\n",
    "display(df.make_model.unique())\n",
    "display(df.review_month.unique())\n",
    "display(df.web_browser.unique())\n",
    "display(df.primary_use.unique())\n",
    "display(df.value_for_money.unique())\n",
    "df.owned.unique()"
   ]
  },
  {
   "cell_type": "code",
   "execution_count": 5,
   "id": "96ebb63f-81dd-4de8-b0bc-338c494933a5",
   "metadata": {
    "executionTime": 76,
    "lastSuccessfullyExecutedCode": "# check the value of the reviewer_age column\ndf.groupby('reviewer_age')['reviewer_age'].count()"
   },
   "outputs": [
    {
     "data": {
      "text/plain": [
       "reviewer_age\n",
       "-     105\n",
       "16     43\n",
       "17     45\n",
       "18     46\n",
       "19     52\n",
       "20     46\n",
       "21     41\n",
       "22     40\n",
       "23     43\n",
       "24     39\n",
       "25     38\n",
       "26     39\n",
       "27     38\n",
       "28     36\n",
       "29     35\n",
       "30     45\n",
       "31     36\n",
       "32     30\n",
       "33     39\n",
       "34     32\n",
       "35     31\n",
       "36     39\n",
       "37     45\n",
       "38     28\n",
       "39     45\n",
       "40     45\n",
       "41     51\n",
       "42     37\n",
       "43     36\n",
       "44     46\n",
       "45     50\n",
       "46     41\n",
       "47     37\n",
       "48     42\n",
       "49     26\n",
       "50     33\n",
       "Name: reviewer_age, dtype: int64"
      ]
     },
     "execution_count": 5,
     "metadata": {},
     "output_type": "execute_result"
    }
   ],
   "source": [
    "# check the value of the reviewer_age column\n",
    "df.groupby('reviewer_age')['reviewer_age'].count()"
   ]
  },
  {
   "cell_type": "code",
   "execution_count": 6,
   "id": "3bd06525-f768-4ad0-a94f-bb5274d685c0",
   "metadata": {
    "executionTime": 523,
    "lastSuccessfullyExecutedCode": "df[df.reviewer_age == '-']"
   },
   "outputs": [
    {
     "data": {
      "text/html": [
       "<div>\n",
       "<style scoped>\n",
       "    .dataframe tbody tr th:only-of-type {\n",
       "        vertical-align: middle;\n",
       "    }\n",
       "\n",
       "    .dataframe tbody tr th {\n",
       "        vertical-align: top;\n",
       "    }\n",
       "\n",
       "    .dataframe thead th {\n",
       "        text-align: right;\n",
       "    }\n",
       "</style>\n",
       "<table border=\"1\" class=\"dataframe\">\n",
       "  <thead>\n",
       "    <tr style=\"text-align: right;\">\n",
       "      <th></th>\n",
       "      <th>owned</th>\n",
       "      <th>make_model</th>\n",
       "      <th>review_month</th>\n",
       "      <th>web_browser</th>\n",
       "      <th>reviewer_age</th>\n",
       "      <th>primary_use</th>\n",
       "      <th>value_for_money</th>\n",
       "      <th>overall_rating</th>\n",
       "    </tr>\n",
       "  </thead>\n",
       "  <tbody>\n",
       "    <tr>\n",
       "      <th>31</th>\n",
       "      <td>1</td>\n",
       "      <td>Hoang-Keetra</td>\n",
       "      <td>31-Jul</td>\n",
       "      <td>Chrome</td>\n",
       "      <td>-</td>\n",
       "      <td>Commuting</td>\n",
       "      <td>5/10</td>\n",
       "      <td>17.27</td>\n",
       "    </tr>\n",
       "    <tr>\n",
       "      <th>52</th>\n",
       "      <td>1</td>\n",
       "      <td>Nielah-Eyden</td>\n",
       "      <td>Jun</td>\n",
       "      <td>Chrome</td>\n",
       "      <td>-</td>\n",
       "      <td>Commuting</td>\n",
       "      <td>7/10</td>\n",
       "      <td>18.51</td>\n",
       "    </tr>\n",
       "    <tr>\n",
       "      <th>53</th>\n",
       "      <td>1</td>\n",
       "      <td>Nielah-Eyden</td>\n",
       "      <td>14-Feb</td>\n",
       "      <td>Chrome</td>\n",
       "      <td>-</td>\n",
       "      <td>Commuting</td>\n",
       "      <td>4/10</td>\n",
       "      <td>19.18</td>\n",
       "    </tr>\n",
       "    <tr>\n",
       "      <th>56</th>\n",
       "      <td>0</td>\n",
       "      <td>Lunna-Eyden</td>\n",
       "      <td>28-Feb</td>\n",
       "      <td>Firefox</td>\n",
       "      <td>-</td>\n",
       "      <td>Commuting</td>\n",
       "      <td>4/10</td>\n",
       "      <td>15.13</td>\n",
       "    </tr>\n",
       "    <tr>\n",
       "      <th>71</th>\n",
       "      <td>1</td>\n",
       "      <td>Lunna-Eyden</td>\n",
       "      <td>Sep</td>\n",
       "      <td>Firefox</td>\n",
       "      <td>-</td>\n",
       "      <td>Commuting</td>\n",
       "      <td>6/10</td>\n",
       "      <td>15.83</td>\n",
       "    </tr>\n",
       "    <tr>\n",
       "      <th>...</th>\n",
       "      <td>...</td>\n",
       "      <td>...</td>\n",
       "      <td>...</td>\n",
       "      <td>...</td>\n",
       "      <td>...</td>\n",
       "      <td>...</td>\n",
       "      <td>...</td>\n",
       "      <td>...</td>\n",
       "    </tr>\n",
       "    <tr>\n",
       "      <th>1430</th>\n",
       "      <td>0</td>\n",
       "      <td>Nielah-Eyden</td>\n",
       "      <td>09-Jan</td>\n",
       "      <td>Firefox</td>\n",
       "      <td>-</td>\n",
       "      <td>Commuting</td>\n",
       "      <td>4/10</td>\n",
       "      <td>18.45</td>\n",
       "    </tr>\n",
       "    <tr>\n",
       "      <th>1446</th>\n",
       "      <td>0</td>\n",
       "      <td>Lunna-Keetra</td>\n",
       "      <td>15-Apr</td>\n",
       "      <td>IE</td>\n",
       "      <td>-</td>\n",
       "      <td>Commuting</td>\n",
       "      <td>6/10</td>\n",
       "      <td>12.10</td>\n",
       "    </tr>\n",
       "    <tr>\n",
       "      <th>1459</th>\n",
       "      <td>1</td>\n",
       "      <td>Lunna-Eyden</td>\n",
       "      <td>18-Mar</td>\n",
       "      <td>NaN</td>\n",
       "      <td>-</td>\n",
       "      <td>Commuting</td>\n",
       "      <td>5/10</td>\n",
       "      <td>16.35</td>\n",
       "    </tr>\n",
       "    <tr>\n",
       "      <th>1463</th>\n",
       "      <td>1</td>\n",
       "      <td>Nielah-Eyden</td>\n",
       "      <td>26-Dec</td>\n",
       "      <td>Firefox</td>\n",
       "      <td>-</td>\n",
       "      <td>Leisure</td>\n",
       "      <td>4/10</td>\n",
       "      <td>18.50</td>\n",
       "    </tr>\n",
       "    <tr>\n",
       "      <th>1495</th>\n",
       "      <td>1</td>\n",
       "      <td>Nielah-Eyden</td>\n",
       "      <td>18-May</td>\n",
       "      <td>Chrome</td>\n",
       "      <td>-</td>\n",
       "      <td>Leisure</td>\n",
       "      <td>6/10</td>\n",
       "      <td>18.76</td>\n",
       "    </tr>\n",
       "  </tbody>\n",
       "</table>\n",
       "<p>105 rows × 8 columns</p>\n",
       "</div>"
      ],
      "text/plain": [
       "      owned    make_model review_month web_browser reviewer_age primary_use  \\\n",
       "31        1  Hoang-Keetra       31-Jul      Chrome            -   Commuting   \n",
       "52        1  Nielah-Eyden          Jun      Chrome            -   Commuting   \n",
       "53        1  Nielah-Eyden       14-Feb      Chrome            -   Commuting   \n",
       "56        0   Lunna-Eyden       28-Feb     Firefox            -   Commuting   \n",
       "71        1   Lunna-Eyden          Sep     Firefox            -   Commuting   \n",
       "...     ...           ...          ...         ...          ...         ...   \n",
       "1430      0  Nielah-Eyden       09-Jan     Firefox            -   Commuting   \n",
       "1446      0  Lunna-Keetra       15-Apr          IE            -   Commuting   \n",
       "1459      1   Lunna-Eyden       18-Mar         NaN            -   Commuting   \n",
       "1463      1  Nielah-Eyden       26-Dec     Firefox            -     Leisure   \n",
       "1495      1  Nielah-Eyden       18-May      Chrome            -     Leisure   \n",
       "\n",
       "     value_for_money  overall_rating  \n",
       "31              5/10           17.27  \n",
       "52              7/10           18.51  \n",
       "53              4/10           19.18  \n",
       "56              4/10           15.13  \n",
       "71              6/10           15.83  \n",
       "...              ...             ...  \n",
       "1430            4/10           18.45  \n",
       "1446            6/10           12.10  \n",
       "1459            5/10           16.35  \n",
       "1463            4/10           18.50  \n",
       "1495            6/10           18.76  \n",
       "\n",
       "[105 rows x 8 columns]"
      ]
     },
     "execution_count": 6,
     "metadata": {},
     "output_type": "execute_result"
    }
   ],
   "source": [
    "df[df.reviewer_age == '-']"
   ]
  },
  {
   "cell_type": "markdown",
   "id": "9ed271df-5f56-47a8-8911-bc70c09997f2",
   "metadata": {},
   "source": [
    "## **replacing missing values**"
   ]
  },
  {
   "cell_type": "code",
   "execution_count": 7,
   "id": "04f5f850-27e8-44c9-9279-59b8dab7220a",
   "metadata": {
    "executionTime": 0,
    "lastSuccessfullyExecutedCode": "rep_value = df[~(df.reviewer_age == '-')]['reviewer_age'].astype('int').mean()\ndf['reviewer_age'] = df.reviewer_age.replace('-', rep_value).astype('int')\n\ndf['web_browser'].fillna('unknown', inplace=True)"
   },
   "outputs": [],
   "source": [
    "rep_value = df[~(df.reviewer_age == '-')]['reviewer_age'].astype('int').mean()\n",
    "df['reviewer_age'] = df.reviewer_age.replace('-', rep_value).astype('int')\n",
    "\n",
    "df['web_browser'].fillna('unknown', inplace=True)"
   ]
  },
  {
   "cell_type": "markdown",
   "id": "3ed5dcd9-981e-4985-813f-91025b991e0e",
   "metadata": {},
   "source": [
    "## **changing values**"
   ]
  },
  {
   "cell_type": "code",
   "execution_count": 8,
   "id": "9257df38-e570-4ddf-842b-415fb2da8af0",
   "metadata": {
    "executionTime": 54,
    "lastSuccessfullyExecutedCode": "def change_col(col_name):\n    if len(col_name) > 3:\n        return col_name[3:]\n    else:\n        return col_name"
   },
   "outputs": [],
   "source": [
    "def change_col(col_name):\n",
    "    if len(col_name) > 3:\n",
    "        return col_name[3:]\n",
    "    else:\n",
    "        return col_name"
   ]
  },
  {
   "cell_type": "code",
   "execution_count": 9,
   "id": "de7f221e-b5f3-4817-bf4e-a81a3b5aa234",
   "metadata": {
    "executionTime": 37,
    "lastSuccessfullyExecutedCode": "df['review_month'] = df['review_month'].apply(change_col)\ndf['review_month'].unique()"
   },
   "outputs": [
    {
     "data": {
      "text/plain": [
       "array(['Oct', 'Jun', 'Nov', 'Sep', 'Aug', 'Mar', 'Jul', 'Apr', 'Dec',\n",
       "       'Feb', 'Jan', 'May'], dtype=object)"
      ]
     },
     "execution_count": 9,
     "metadata": {},
     "output_type": "execute_result"
    }
   ],
   "source": [
    "df['review_month'] = df['review_month'].apply(change_col)\n",
    "df['review_month'].unique()"
   ]
  },
  {
   "cell_type": "markdown",
   "id": "ae6f170e-bd8b-482c-b082-f3bd52f0f821",
   "metadata": {},
   "source": [
    "## **changing dtypes values**"
   ]
  },
  {
   "cell_type": "code",
   "execution_count": 10,
   "id": "5955e414-1999-4885-b29b-af0bd6972b7f",
   "metadata": {
    "executionTime": 217,
    "lastSuccessfullyExecutedCode": "df['owned'] = df.owned.astype('category')\ndf['primary_use'] = df.primary_use.astype('category')\ndf['make_model'] = df.make_model.astype('category')\ndf['review_month'] = df.review_month.astype('category')\ndf['web_browser'] = df.web_browser.astype('category')\ndf['value_for_money'] = df.value_for_money.str.replace('/10', '').astype('int')\ndf.info()"
   },
   "outputs": [
    {
     "name": "stdout",
     "output_type": "stream",
     "text": [
      "<class 'pandas.core.frame.DataFrame'>\n",
      "RangeIndex: 1500 entries, 0 to 1499\n",
      "Data columns (total 8 columns):\n",
      " #   Column           Non-Null Count  Dtype   \n",
      "---  ------           --------------  -----   \n",
      " 0   owned            1500 non-null   category\n",
      " 1   make_model       1500 non-null   category\n",
      " 2   review_month     1500 non-null   category\n",
      " 3   web_browser      1500 non-null   category\n",
      " 4   reviewer_age     1500 non-null   int32   \n",
      " 5   primary_use      1500 non-null   category\n",
      " 6   value_for_money  1500 non-null   int32   \n",
      " 7   overall_rating   1500 non-null   float64 \n",
      "dtypes: category(5), float64(1), int32(2)\n",
      "memory usage: 32.1 KB\n"
     ]
    }
   ],
   "source": [
    "df['owned'] = df.owned.astype('category')\n",
    "df['primary_use'] = df.primary_use.astype('category')\n",
    "df['make_model'] = df.make_model.astype('category')\n",
    "df['review_month'] = df.review_month.astype('category')\n",
    "df['web_browser'] = df.web_browser.astype('category')\n",
    "df['value_for_money'] = df.value_for_money.str.replace('/10', '').astype('int')\n",
    "df.info()"
   ]
  },
  {
   "cell_type": "markdown",
   "id": "66fa9dc2-354f-4f3d-b427-f9826776d864",
   "metadata": {},
   "source": [
    "# Exploratory Analysis\n",
    "From Graph 2 we see distribution of overall rating. There are no outliers on the graph. Owned variable is our target variable. From Graph 1, we can see the proportion of the minority class - False (0), indicating having enough values, is about 41%. Therefore, the imbalanced class issue is mild, so we decided not to address this issue at this point.\n",
    "\n",
    "From investigating the relationship between the rating and target variable (Graph 3), we can see the rating variable might be a good indicator for prediction.\n",
    "\n",
    "As you can see in the Graph 4, there is no difference in the ranking depending on the model. On the contrary, you can see a pattern that regardless of ownership, the rating is highly dependent on the model. Other variables are good indicators for prediction (Graph 5 - 8).\n",
    "\n",
    "Based on my analysis, I made the following decisions:\n",
    "- remove the make_model column\n",
    "- convert all categorical variables to dummy variables\n",
    "- standardize numeric variables"
   ]
  },
  {
   "cell_type": "code",
   "execution_count": 11,
   "id": "38b410bd-2869-4dd0-8dff-e87cba2abf86",
   "metadata": {
    "executionTime": 1075,
    "lastSuccessfullyExecutedCode": "display(df.owned.value_counts())\nfig, ax =plt.subplots(2,1)\ndf.owned.value_counts(normalize=True).plot(kind='bar', ylabel='Percentage (%)', grid=True, ax=ax[0])\ndf.owned.value_counts().plot(kind='bar', ylabel='Count', xlabel='Owned', grid=True, ax=ax[1])\nax[0].set_title('Graph 1, percentage and number of target var - owned')\n"
   },
   "outputs": [
    {
     "data": {
      "text/plain": [
       "1    890\n",
       "0    610\n",
       "Name: owned, dtype: int64"
      ]
     },
     "metadata": {},
     "output_type": "display_data"
    },
    {
     "data": {
      "text/plain": [
       "Text(0.5, 1.0, 'Graph 1, percentage and number of target var - owned')"
      ]
     },
     "execution_count": 11,
     "metadata": {},
     "output_type": "execute_result"
    },
    {
     "data": {
      "image/png": "[encoded data removed]",
      "text/plain": [
       "<Figure size 432x288 with 2 Axes>"
      ]
     },
     "metadata": {
      "needs_background": "light"
     },
     "output_type": "display_data"
    }
   ],
   "source": [
    "display(df.owned.value_counts())\n",
    "fig, ax =plt.subplots(2,1)\n",
    "df.owned.value_counts(normalize=True).plot(kind='bar', ylabel='Percentage (%)', grid=True, ax=ax[0])\n",
    "df.owned.value_counts().plot(kind='bar', ylabel='Count', xlabel='Owned', grid=True, ax=ax[1])\n",
    "ax[0].set_title('Graph 1, percentage and number of target var - owned')\n"
   ]
  },
  {
   "cell_type": "code",
   "execution_count": 12,
   "id": "f9deecc6-4c42-4330-b9de-acb0551f3466",
   "metadata": {
    "executionTime": 421,
    "lastSuccessfullyExecutedCode": "sns.boxplot(x=df['overall_rating']).set(title='Graph 2, distribution of rating')"
   },
   "outputs": [
    {
     "data": {
      "text/plain": [
       "[Text(0.5, 1.0, 'Graph 2, distribution of rating')]"
      ]
     },
     "execution_count": 12,
     "metadata": {},
     "output_type": "execute_result"
    },
    {
     "data": {
      "image/png": "[encoded data removed]",
      "text/plain": [
       "<Figure size 432x288 with 1 Axes>"
      ]
     },
     "metadata": {
      "needs_background": "light"
     },
     "output_type": "display_data"
    }
   ],
   "source": [
    "sns.boxplot(x=df['overall_rating']).set(title='Graph 2, distribution of rating')"
   ]
  },
  {
   "cell_type": "markdown",
   "id": "8da9987d-86bf-46cd-a3e9-ab7b0c9232f4",
   "metadata": {},
   "source": [
    "## Inspecting the distribution overall rating across the values"
   ]
  },
  {
   "cell_type": "code",
   "execution_count": 13,
   "id": "30f8e4d8-33fc-4812-97e8-dcbfcbf66ed5",
   "metadata": {
    "executionTime": 667,
    "lastSuccessfullyExecutedCode": "(\nsns.boxplot(x='owned', y='overall_rating', data=df, linewidth=0.5)\n.set(title='Graph 3, overall rating vs owned')\n)"
   },
   "outputs": [
    {
     "data": {
      "text/plain": [
       "[Text(0.5, 1.0, 'Graph 3, overall rating vs owned')]"
      ]
     },
     "execution_count": 13,
     "metadata": {},
     "output_type": "execute_result"
    },
    {
     "data": {
      "image/png": "[encoded data removed]",
      "text/plain": [
       "<Figure size 432x288 with 1 Axes>"
      ]
     },
     "metadata": {
      "needs_background": "light"
     },
     "output_type": "display_data"
    }
   ],
   "source": [
    "(\n",
    "sns.boxplot(x='owned', y='overall_rating', data=df, linewidth=0.5)\n",
    ".set(title='Graph 3, overall rating vs owned')\n",
    ")"
   ]
  },
  {
   "cell_type": "code",
   "execution_count": 14,
   "id": "578146c0-6713-4934-9432-638713e3a2cc",
   "metadata": {
    "executionTime": 2103,
    "lastSuccessfullyExecutedCode": "(sns.boxplot(x='owned', y='overall_rating', hue='make_model', data=df, linewidth=0.5)\n.set(title='Graph 4, overall rating vs owned/models'))\nplt.legend(loc=2, bbox_to_anchor = (1,1))"
   },
   "outputs": [
    {
     "data": {
      "text/plain": [
       "<matplotlib.legend.Legend at 0x25302e1afd0>"
      ]
     },
     "execution_count": 14,
     "metadata": {},
     "output_type": "execute_result"
    },
    {
     "data": {
      "image/png": "[encoded data removed]",
      "text/plain": [
       "<Figure size 432x288 with 1 Axes>"
      ]
     },
     "metadata": {
      "needs_background": "light"
     },
     "output_type": "display_data"
    }
   ],
   "source": [
    "(sns.boxplot(x='owned', y='overall_rating', hue='make_model', data=df, linewidth=0.5)\n",
    ".set(title='Graph 4, overall rating vs owned/models'))\n",
    "plt.legend(loc=2, bbox_to_anchor = (1,1))"
   ]
  },
  {
   "cell_type": "code",
   "execution_count": 15,
   "id": "db62be58-90f4-4e8b-991b-b1b339c50d55",
   "metadata": {
    "executionTime": 1953,
    "lastSuccessfullyExecutedCode": "(sns.boxplot(x='owned', y='overall_rating', hue='review_month', data=df, linewidth=0.5)\n.set(title='Graph 6, overall rating vs owned/month'))\nplt.legend(loc=2, bbox_to_anchor = (1,1))"
   },
   "outputs": [
    {
     "data": {
      "text/plain": [
       "<matplotlib.legend.Legend at 0x25302fa8550>"
      ]
     },
     "execution_count": 15,
     "metadata": {},
     "output_type": "execute_result"
    },
    {
     "data": {
      "image/png": "[encoded data removed]",
      "text/plain": [
       "<Figure size 432x288 with 1 Axes>"
      ]
     },
     "metadata": {
      "needs_background": "light"
     },
     "output_type": "display_data"
    }
   ],
   "source": [
    "(sns.boxplot(x='owned', y='overall_rating', hue='review_month', data=df, linewidth=0.5)\n",
    ".set(title='Graph 6, overall rating vs owned/month'))\n",
    "plt.legend(loc=2, bbox_to_anchor = (1,1))"
   ]
  },
  {
   "cell_type": "code",
   "execution_count": 16,
   "id": "df6a674b-dd65-4a72-9cb7-8471a051351a",
   "metadata": {
    "executionTime": 735,
    "lastSuccessfullyExecutedCode": "(sns.boxplot(x='owned', y='overall_rating', hue='web_browser', data=df, linewidth=0.5)\n.set(title='Graph 7, overall rating vs owned/browser'))\nplt.legend(loc=2, bbox_to_anchor = (1,1))"
   },
   "outputs": [
    {
     "data": {
      "text/plain": [
       "<matplotlib.legend.Legend at 0x25303164f40>"
      ]
     },
     "execution_count": 16,
     "metadata": {},
     "output_type": "execute_result"
    },
    {
     "data": {
      "image/png": "[encoded data removed]",
      "text/plain": [
       "<Figure size 432x288 with 1 Axes>"
      ]
     },
     "metadata": {
      "needs_background": "light"
     },
     "output_type": "display_data"
    }
   ],
   "source": [
    "(sns.boxplot(x='owned', y='overall_rating', hue='web_browser', data=df, linewidth=0.5)\n",
    ".set(title='Graph 7, overall rating vs owned/browser'))\n",
    "plt.legend(loc=2, bbox_to_anchor = (1,1))"
   ]
  },
  {
   "cell_type": "code",
   "execution_count": 17,
   "id": "30dda52b-c9d0-4052-bcbe-f89a3903ffad",
   "metadata": {
    "executionTime": 513,
    "lastSuccessfullyExecutedCode": "(sns.boxplot(x='owned', y='overall_rating', hue='primary_use', data=df, linewidth=0.5)\n.set(title='Graph 8, overall rating vs owned/primary use'))\nplt.legend(loc=2, bbox_to_anchor = (1,1))"
   },
   "outputs": [
    {
     "data": {
      "text/plain": [
       "<matplotlib.legend.Legend at 0x2530334b9a0>"
      ]
     },
     "execution_count": 17,
     "metadata": {},
     "output_type": "execute_result"
    },
    {
     "data": {
      "image/png": "[encoded data removed]",
      "text/plain": [
       "<Figure size 432x288 with 1 Axes>"
      ]
     },
     "metadata": {
      "needs_background": "light"
     },
     "output_type": "display_data"
    }
   ],
   "source": [
    "(sns.boxplot(x='owned', y='overall_rating', hue='primary_use', data=df, linewidth=0.5)\n",
    ".set(title='Graph 8, overall rating vs owned/primary use'))\n",
    "plt.legend(loc=2, bbox_to_anchor = (1,1))"
   ]
  },
  {
   "cell_type": "markdown",
   "id": "711ce654-9aa5-4916-8de0-87bc3a07193d",
   "metadata": {},
   "source": [
    "## Make changes to enable modeling"
   ]
  },
  {
   "cell_type": "code",
   "execution_count": 18,
   "id": "b56293a8-60b2-49a1-9f1f-072f66f2d4a8",
   "metadata": {
    "executionTime": 0,
    "lastSuccessfullyExecutedCode": "from sklearn.preprocessing import StandardScaler"
   },
   "outputs": [],
   "source": [
    "from sklearn.preprocessing import StandardScaler"
   ]
  },
  {
   "cell_type": "code",
   "execution_count": 19,
   "id": "91de1e7e-c560-402a-aa3a-ca99bf7f1a87",
   "metadata": {
    "executionTime": 192,
    "lastSuccessfullyExecutedCode": "df.drop('make_model', axis=1, inplace=True)\ndf = pd.get_dummies(df, columns=['review_month', 'web_browser', 'primary_use', 'value_for_money'], \n               drop_first=True, \n               prefix_sep='_')"
   },
   "outputs": [],
   "source": [
    "df.drop('make_model', axis=1, inplace=True)\n",
    "df = pd.get_dummies(df, columns=['review_month', 'web_browser', 'primary_use', 'value_for_money'], \n",
    "               drop_first=True, \n",
    "               prefix_sep='_')"
   ]
  },
  {
   "cell_type": "code",
   "execution_count": 20,
   "id": "2fbbf2f8-bda6-4ef9-8ad3-43ba2f56c0c9",
   "metadata": {
    "executionTime": 87,
    "lastSuccessfullyExecutedCode": "scaler = StandardScaler()\nscaler.fit(df[['overall_rating', 'reviewer_age']])\ndf[['overall_rating', 'reviewer_age']] = scaler.transform(df[['overall_rating', 'reviewer_age']])\ndf.head()"
   },
   "outputs": [
    {
     "data": {
      "text/html": [
       "<div>\n",
       "<style scoped>\n",
       "    .dataframe tbody tr th:only-of-type {\n",
       "        vertical-align: middle;\n",
       "    }\n",
       "\n",
       "    .dataframe tbody tr th {\n",
       "        vertical-align: top;\n",
       "    }\n",
       "\n",
       "    .dataframe thead th {\n",
       "        text-align: right;\n",
       "    }\n",
       "</style>\n",
       "<table border=\"1\" class=\"dataframe\">\n",
       "  <thead>\n",
       "    <tr style=\"text-align: right;\">\n",
       "      <th></th>\n",
       "      <th>owned</th>\n",
       "      <th>reviewer_age</th>\n",
       "      <th>overall_rating</th>\n",
       "      <th>review_month_Aug</th>\n",
       "      <th>review_month_Dec</th>\n",
       "      <th>review_month_Feb</th>\n",
       "      <th>review_month_Jan</th>\n",
       "      <th>review_month_Jul</th>\n",
       "      <th>review_month_Jun</th>\n",
       "      <th>review_month_Mar</th>\n",
       "      <th>...</th>\n",
       "      <th>primary_use_Leisure</th>\n",
       "      <th>value_for_money_2</th>\n",
       "      <th>value_for_money_3</th>\n",
       "      <th>value_for_money_4</th>\n",
       "      <th>value_for_money_5</th>\n",
       "      <th>value_for_money_6</th>\n",
       "      <th>value_for_money_7</th>\n",
       "      <th>value_for_money_8</th>\n",
       "      <th>value_for_money_9</th>\n",
       "      <th>value_for_money_10</th>\n",
       "    </tr>\n",
       "  </thead>\n",
       "  <tbody>\n",
       "    <tr>\n",
       "      <th>0</th>\n",
       "      <td>1</td>\n",
       "      <td>-0.967846</td>\n",
       "      <td>0.605826</td>\n",
       "      <td>0</td>\n",
       "      <td>0</td>\n",
       "      <td>0</td>\n",
       "      <td>0</td>\n",
       "      <td>0</td>\n",
       "      <td>0</td>\n",
       "      <td>0</td>\n",
       "      <td>...</td>\n",
       "      <td>0</td>\n",
       "      <td>0</td>\n",
       "      <td>0</td>\n",
       "      <td>0</td>\n",
       "      <td>1</td>\n",
       "      <td>0</td>\n",
       "      <td>0</td>\n",
       "      <td>0</td>\n",
       "      <td>0</td>\n",
       "      <td>0</td>\n",
       "    </tr>\n",
       "    <tr>\n",
       "      <th>1</th>\n",
       "      <td>0</td>\n",
       "      <td>-0.866564</td>\n",
       "      <td>-0.649926</td>\n",
       "      <td>0</td>\n",
       "      <td>0</td>\n",
       "      <td>0</td>\n",
       "      <td>0</td>\n",
       "      <td>0</td>\n",
       "      <td>1</td>\n",
       "      <td>0</td>\n",
       "      <td>...</td>\n",
       "      <td>0</td>\n",
       "      <td>0</td>\n",
       "      <td>0</td>\n",
       "      <td>1</td>\n",
       "      <td>0</td>\n",
       "      <td>0</td>\n",
       "      <td>0</td>\n",
       "      <td>0</td>\n",
       "      <td>0</td>\n",
       "      <td>0</td>\n",
       "    </tr>\n",
       "    <tr>\n",
       "      <th>2</th>\n",
       "      <td>0</td>\n",
       "      <td>-0.461438</td>\n",
       "      <td>-1.791146</td>\n",
       "      <td>0</td>\n",
       "      <td>0</td>\n",
       "      <td>0</td>\n",
       "      <td>0</td>\n",
       "      <td>0</td>\n",
       "      <td>0</td>\n",
       "      <td>0</td>\n",
       "      <td>...</td>\n",
       "      <td>0</td>\n",
       "      <td>0</td>\n",
       "      <td>0</td>\n",
       "      <td>0</td>\n",
       "      <td>1</td>\n",
       "      <td>0</td>\n",
       "      <td>0</td>\n",
       "      <td>0</td>\n",
       "      <td>0</td>\n",
       "      <td>0</td>\n",
       "    </tr>\n",
       "    <tr>\n",
       "      <th>3</th>\n",
       "      <td>1</td>\n",
       "      <td>0.855221</td>\n",
       "      <td>-0.028186</td>\n",
       "      <td>0</td>\n",
       "      <td>0</td>\n",
       "      <td>0</td>\n",
       "      <td>0</td>\n",
       "      <td>0</td>\n",
       "      <td>0</td>\n",
       "      <td>0</td>\n",
       "      <td>...</td>\n",
       "      <td>1</td>\n",
       "      <td>0</td>\n",
       "      <td>0</td>\n",
       "      <td>0</td>\n",
       "      <td>1</td>\n",
       "      <td>0</td>\n",
       "      <td>0</td>\n",
       "      <td>0</td>\n",
       "      <td>0</td>\n",
       "      <td>0</td>\n",
       "    </tr>\n",
       "    <tr>\n",
       "      <th>4</th>\n",
       "      <td>1</td>\n",
       "      <td>0.044969</td>\n",
       "      <td>-1.983395</td>\n",
       "      <td>0</td>\n",
       "      <td>0</td>\n",
       "      <td>0</td>\n",
       "      <td>0</td>\n",
       "      <td>0</td>\n",
       "      <td>0</td>\n",
       "      <td>0</td>\n",
       "      <td>...</td>\n",
       "      <td>1</td>\n",
       "      <td>0</td>\n",
       "      <td>0</td>\n",
       "      <td>0</td>\n",
       "      <td>1</td>\n",
       "      <td>0</td>\n",
       "      <td>0</td>\n",
       "      <td>0</td>\n",
       "      <td>0</td>\n",
       "      <td>0</td>\n",
       "    </tr>\n",
       "  </tbody>\n",
       "</table>\n",
       "<p>5 rows × 30 columns</p>\n",
       "</div>"
      ],
      "text/plain": [
       "  owned  reviewer_age  overall_rating  review_month_Aug  review_month_Dec  \\\n",
       "0     1     -0.967846        0.605826                 0                 0   \n",
       "1     0     -0.866564       -0.649926                 0                 0   \n",
       "2     0     -0.461438       -1.791146                 0                 0   \n",
       "3     1      0.855221       -0.028186                 0                 0   \n",
       "4     1      0.044969       -1.983395                 0                 0   \n",
       "\n",
       "   review_month_Feb  review_month_Jan  review_month_Jul  review_month_Jun  \\\n",
       "0                 0                 0                 0                 0   \n",
       "1                 0                 0                 0                 1   \n",
       "2                 0                 0                 0                 0   \n",
       "3                 0                 0                 0                 0   \n",
       "4                 0                 0                 0                 0   \n",
       "\n",
       "   review_month_Mar  ...  primary_use_Leisure  value_for_money_2  \\\n",
       "0                 0  ...                    0                  0   \n",
       "1                 0  ...                    0                  0   \n",
       "2                 0  ...                    0                  0   \n",
       "3                 0  ...                    1                  0   \n",
       "4                 0  ...                    1                  0   \n",
       "\n",
       "   value_for_money_3  value_for_money_4  value_for_money_5  value_for_money_6  \\\n",
       "0                  0                  0                  1                  0   \n",
       "1                  0                  1                  0                  0   \n",
       "2                  0                  0                  1                  0   \n",
       "3                  0                  0                  1                  0   \n",
       "4                  0                  0                  1                  0   \n",
       "\n",
       "   value_for_money_7  value_for_money_8  value_for_money_9  value_for_money_10  \n",
       "0                  0                  0                  0                   0  \n",
       "1                  0                  0                  0                   0  \n",
       "2                  0                  0                  0                   0  \n",
       "3                  0                  0                  0                   0  \n",
       "4                  0                  0                  0                   0  \n",
       "\n",
       "[5 rows x 30 columns]"
      ]
     },
     "execution_count": 20,
     "metadata": {},
     "output_type": "execute_result"
    }
   ],
   "source": [
    "scaler = StandardScaler()\n",
    "scaler.fit(df[['overall_rating', 'reviewer_age']])\n",
    "df[['overall_rating', 'reviewer_age']] = scaler.transform(df[['overall_rating', 'reviewer_age']])\n",
    "df.head()"
   ]
  },
  {
   "cell_type": "markdown",
   "id": "cdc98227-9029-4fec-bd73-f0f6291029c4",
   "metadata": {},
   "source": [
    "# Model Fitting\n",
    "Predicting whether the recall comes from the owner or not is a binary classification problem. The first model I choose is the decision tree, the model for comparison I take a random forest."
   ]
  },
  {
   "cell_type": "code",
   "execution_count": 21,
   "id": "1f3d4e7c-f96e-40ce-98a1-50c42f906e42",
   "metadata": {
    "executionTime": 33,
    "lastSuccessfullyExecutedCode": "#import ML models and peformance metrics\nfrom sklearn.model_selection import train_test_split\nfrom sklearn.ensemble import RandomForestClassifier\nfrom sklearn.tree import DecisionTreeClassifier\nfrom sklearn.metrics import classification_report\nfrom sklearn.metrics import confusion_matrix "
   },
   "outputs": [],
   "source": [
    "#import ML models and peformance metrics\n",
    "from sklearn.model_selection import train_test_split\n",
    "from sklearn.ensemble import RandomForestClassifier\n",
    "from sklearn.tree import DecisionTreeClassifier\n",
    "from sklearn.metrics import classification_report\n",
    "from sklearn.metrics import confusion_matrix "
   ]
  },
  {
   "cell_type": "code",
   "execution_count": 22,
   "id": "62f644d1-0b5e-4d52-8652-b56b967c3eb0",
   "metadata": {
    "executionTime": 0,
    "lastSuccessfullyExecutedCode": "# Create features set and target set\nfeatures = df.drop('owned', axis=1)\ntarget = df['owned']"
   },
   "outputs": [],
   "source": [
    "# Create features set and target set\n",
    "features = df.drop('owned', axis=1)\n",
    "target = df['owned']"
   ]
  },
  {
   "cell_type": "code",
   "execution_count": 23,
   "id": "66644be4-7e06-4bfe-a011-5391a2e1ebdc",
   "metadata": {
    "executionTime": 0,
    "lastSuccessfullyExecutedCode": "# Split dataset into 70% training set and 30% test set\nX_train, X_test, y_train, y_test = train_test_split(features, target, test_size=0.30, random_state=123)"
   },
   "outputs": [],
   "source": [
    "# Split dataset into 70% training set and 30% test set\n",
    "X_train, X_test, y_train, y_test = train_test_split(features, target, test_size=0.30, random_state=123)"
   ]
  },
  {
   "cell_type": "markdown",
   "id": "7bd45dff-4b50-4a1d-8cd0-79c42f61b5f1",
   "metadata": {},
   "source": [
    "## Model 1: Decision Tree"
   ]
  },
  {
   "cell_type": "code",
   "execution_count": 24,
   "id": "e9232072-4ba7-435b-913e-07f96274badc",
   "metadata": {
    "executionTime": 0,
    "lastSuccessfullyExecutedCode": "# fit Decision Tree model and make prediction\nDTC = DecisionTreeClassifier(random_state=123)\nDTC.fit(X_train, y_train)\npred_DTC = DTC.predict(X_test)"
   },
   "outputs": [],
   "source": [
    "# fit Decision Tree model and make prediction\n",
    "DTC = DecisionTreeClassifier(random_state=123)\n",
    "DTC.fit(X_train, y_train)\n",
    "pred_DTC = DTC.predict(X_test)"
   ]
  },
  {
   "cell_type": "markdown",
   "id": "767c8893-9f2f-436a-9fee-792caa62920f",
   "metadata": {},
   "source": [
    "## Model 2: Random Forest"
   ]
  },
  {
   "cell_type": "code",
   "execution_count": 25,
   "id": "243e0602-064e-43d1-84fd-c18506bda90a",
   "metadata": {
    "executionTime": 0,
    "lastSuccessfullyExecutedCode": "# fit Random Forest model and make prediction\nRFC = RandomForestClassifier(random_state=123)\nRFC.fit(X_train, y_train)\npred_RFC = RFC.predict(X_test)"
   },
   "outputs": [],
   "source": [
    "# fit Random Forest model and make prediction\n",
    "RFC = RandomForestClassifier(random_state=123)\n",
    "RFC.fit(X_train, y_train)\n",
    "pred_RFC = RFC.predict(X_test)"
   ]
  },
  {
   "cell_type": "markdown",
   "id": "d2e9b44f-8bcb-4a48-986e-44793f7e759c",
   "metadata": {},
   "source": [
    "## Model Evaluation\n",
    "I am choosing accuracy to evaluate the model because they are easy to interpret. Accuracy focuses on correct predictions of all predictions.\n",
    "\n",
    "The accuracy of the Decision Tree and Random Forest model is 0.66 and 0.73, meaning the Random Forest model predicts more correctly whether a review came from an owner or not.\n",
    "\n",
    "From this metric, we can conclude that the Random Forest model has a higher chance of that prediction being correct."
   ]
  },
  {
   "cell_type": "markdown",
   "id": "c254ef01-3e77-487d-a22c-2cd6b9124401",
   "metadata": {},
   "source": [
    "## Evaluating Decision Tree Model"
   ]
  },
  {
   "cell_type": "code",
   "execution_count": 26,
   "id": "f19450c4-6f30-4613-a6a5-ea8a23fb6752",
   "metadata": {
    "executionTime": 45,
    "lastSuccessfullyExecutedCode": "print(classification_report(y_test, pred_DTC))"
   },
   "outputs": [
    {
     "name": "stdout",
     "output_type": "stream",
     "text": [
      "              precision    recall  f1-score   support\n",
      "\n",
      "           0       0.56      0.65      0.60       179\n",
      "           1       0.74      0.66      0.70       271\n",
      "\n",
      "    accuracy                           0.66       450\n",
      "   macro avg       0.65      0.66      0.65       450\n",
      "weighted avg       0.67      0.66      0.66       450\n",
      "\n"
     ]
    }
   ],
   "source": [
    "print(classification_report(y_test, pred_DTC))"
   ]
  },
  {
   "cell_type": "markdown",
   "id": "5340c6ec-63ee-4ed7-bffc-306ded89a8da",
   "metadata": {},
   "source": [
    "## Evaluating Random Forest Model"
   ]
  },
  {
   "cell_type": "code",
   "execution_count": 27,
   "id": "414e56ae-9342-4a85-8e9f-7cfddb7f3d10",
   "metadata": {
    "executionTime": 41,
    "lastSuccessfullyExecutedCode": "print(classification_report(y_test, pred_RFC))"
   },
   "outputs": [
    {
     "name": "stdout",
     "output_type": "stream",
     "text": [
      "              precision    recall  f1-score   support\n",
      "\n",
      "           0       0.67      0.63      0.65       179\n",
      "           1       0.77      0.79      0.78       271\n",
      "\n",
      "    accuracy                           0.73       450\n",
      "   macro avg       0.72      0.71      0.71       450\n",
      "weighted avg       0.73      0.73      0.73       450\n",
      "\n"
     ]
    }
   ],
   "source": [
    "print(classification_report(y_test, pred_RFC))"
   ]
  }
 ],
 "metadata": {
  "colab": {
   "name": "Welcome to DataCamp Workspaces.ipynb",
   "provenance": []
  },
  "kernelspec": {
   "display_name": "Python 3 (ipykernel)",
   "language": "python",
   "name": "python3"
  },
  "language_info": {
   "codemirror_mode": {
    "name": "ipython",
    "version": 3
   },
   "file_extension": ".py",
   "mimetype": "text/x-python",
   "name": "python",
   "nbconvert_exporter": "python",
   "pygments_lexer": "ipython3",
   "version": "3.9.12"
  }
 },
 "nbformat": 4,
 "nbformat_minor": 5
}
